{
 "cells": [
  {
   "cell_type": "code",
   "execution_count": 1,
   "metadata": {},
   "outputs": [],
   "source": [
    "import numpy as np\n",
    "import pandas as pd\n",
    "\n",
    "import matplotlib.pyplot as plt"
   ]
  },
  {
   "cell_type": "code",
   "execution_count": 2,
   "metadata": {},
   "outputs": [],
   "source": [
    "def simple_line_plot(unreal_data_source, gazebo_data_source, x_label, x_index, y_label, y_index, destination_path, x_scaling = 1, y_scaling=1):\n",
    "    # This function takes the path to 2 .csv files representing the data sources, \n",
    "    # creates a graph showing the values of the data at x_index and y_index from both sources\n",
    "    # and saves the plot to a .png file in the folder given by destination_path.\n",
    "    \n",
    "    unreal_data = np.genfromtxt(unreal_data_source, delimiter=',', skip_header = 1)\n",
    "    gazebo_data = np.genfromtxt(gazebo_data_source, delimiter=',', skip_header = 1)\n",
    "\n",
    "    plt.plot(unreal_data[:, x_index]/x_scaling, unreal_data[:, y_index]/y_scaling, 'b')\n",
    "    plt.plot(gazebo_data[:, x_index], gazebo_data[:, y_index], 'r')\n",
    "    plt.xlabel(x_label)\n",
    "    plt.ylabel(y_label)\n",
    "    plt.title(y_label + ' over ' + x_label)\n",
    "    plt.legend(['Unreal ' + y_label, 'Gazebo' + y_label])\n",
    "    plt.grid()\n",
    "    plt.show\n",
    "    plt.savefig(destination_path + y_label + '.png')\n",
    "    plt.clf()"
   ]
  },
  {
   "cell_type": "code",
   "execution_count": 24,
   "metadata": {},
   "outputs": [],
   "source": [
    "def get_indices(x_label, y_label, data_source):\n",
    "    # This function returns the indices of x_label and y_label, ASSSUMING that the .csv files containing UE4 and Gazebo data have the same indices for all labels.\n",
    "    # It throws a KeyError if any of the labels are not found.\n",
    "    df = pd.read_csv(data_source)\n",
    "    return df.columns.get_loc(x_label), df.columns.get_loc(y_label)\n",
    "\n",
    "def plot_pattern_results(unreal_data_source, gazebo_data_source, x_label, y_label, last_pattern_number, destination_path):\n",
    "    # This function plots the result of the force pattern experiments according to the x_label and y_label received. \n",
    "    # It expects to receive 2 paths to folders that contain .csv files named Pattern_1 to Pattern_(last_pattern_number).\n",
    "    # It then saves the plots to the folder given by destination_path.\n",
    "    \n",
    "    for index in range (1, last_pattern_number + 1):\n",
    "        crt_pattern_unreal_source = unreal_data_source + 'Pattern_' + str(index) + \".csv\"\n",
    "        crt_pattern_gazebo_source = gazebo_data_source + 'Pattern_' + str(index) + \".csv\"\n",
    "        x_index, y_index = get_indices(x_label, y_label, crt_pattern_unreal_source)\n",
    "        simple_line_plot(crt_pattern_unreal_source, crt_pattern_gazebo_source, x_label, x_index, y_label, y_index, destination_path + 'Pattern_' + str(index) + '_')\n",
    "\n",
    "def plot_gravity_results(unreal_data_source, gazebo_data_source, x_label, y_label, destination_path):\n",
    "    # This function plots the results of the gravity drop test experiment according to the received x_label and y_label.\n",
    "    # It then saves the plots to the folder given by destination_path.\n",
    "    \n",
    "    x_index, y_index = get_indices(x_label, y_label, unreal_data_source)\n",
    "    simple_line_plot(unreal_data_source, gazebo_data_source, x_label, x_index, y_label, y_index, destination_path, 1, 100)\n",
    "    \n",
    "def plot_constant_force_results(unreal_data_source, gazebo_data_source, x_label, y_label, forces_used, destination_path):\n",
    "    # This function plots the results of the 4 different constant forces used accordig to the received x_label and y_label.\n",
    "    # It expects to receive 2 paths to folders that contain .csv files named Force 1 to Force n(where n is the index of the last force used).\n",
    "    # It then saves the plots to the folder given by destination_path.\n",
    "    n = len(forces_used)\n",
    "    for index in range (1, n + 1):\n",
    "        crt_unreal_source = unreal_data_source + \"Force \" + str(index) + \".csv\"\n",
    "        crt_gazebo_source = gazebo_data_source + \"Force \" + str(index) + \".csv\"\n",
    "        x_index, y_index = get_indices(x_label, y_label, crt_unreal_source)\n",
    "        simple_line_plot(crt_unreal_source, crt_gazebo_source, x_label, x_index, y_label, y_index, destination_path + 'Force ' + str(index)) \n",
    "\n",
    "def plot_impulse_results(unreal_data_source, gazebo_data_source, x_label, y_label, impulces_used, destination_path):\n",
    "    # This function plots the results of the 5 different impulses used accordig to the received x_label and y_label.\n",
    "    # It expects to receive 2 paths to folders that contain .csv files named Force 1 to Force n(where n is the index of the last impulse used).\n",
    "    # It then saves the plots to the folder given by destination_path.\n",
    "    n = len(impulces_used)\n",
    "    for index in range (0, n):\n",
    "        crt_unreal_source = unreal_data_source + str(impulses_used[index]) + \"N.csv\"\n",
    "        crt_gazebo_source = gazebo_data_source + str(impulses_used[index]) + \"N.csv\"\n",
    "        x_index, y_index = get_indices(x_label, y_label, crt_unreal_source)\n",
    "        simple_line_plot(crt_unreal_source, crt_gazebo_source, x_label, x_index, y_label, y_index, destination_path + str(impulces_used[index]) + \"N_Impulse_\") \n"
   ]
  },
  {
   "cell_type": "code",
   "execution_count": 24,
   "metadata": {},
   "outputs": [
    {
     "data": {
      "text/plain": [
       "<Figure size 432x288 with 0 Axes>"
      ]
     },
     "metadata": {},
     "output_type": "display_data"
    }
   ],
   "source": [
    "# Plot gravity drop results\n",
    "plot_destination = 'D:\\\\University\\\\Final Year Project\\\\Final Results\\\\Gravity Drop Test\\\\'\n",
    "unreal_data_source = 'D:\\\\University\\\\Final Year Project\\\\Final Results\\\\Gravity Drop Test\\\\Unreal Results\\\\Gravity_Drop_Test_Observation.csv'\n",
    "gazebo_data_source = 'D:\\\\University\\\\Final Year Project\\\\Final Results\\\\Gravity Drop Test\\\\Gazebo Results\\\\Gravity_Drop_Test_Observations.csv'\n",
    "plot_gravity_results(unreal_data_source, gazebo_data_source, 'Time', 'Z Velocity', plot_destination)\n",
    "plot_gravity_results(unreal_data_source, gazebo_data_source, 'Time', 'Z Position', plot_destination)"
   ]
  },
  {
   "cell_type": "code",
   "execution_count": 15,
   "metadata": {},
   "outputs": [
    {
     "data": {
      "text/plain": [
       "<Figure size 432x288 with 0 Axes>"
      ]
     },
     "metadata": {},
     "output_type": "display_data"
    }
   ],
   "source": [
    "# Plot constant force results\n",
    "unreal_dir_name = 'D:\\\\University\\\\Final Year Project\\\\Final Results\\\\Constant Force\\\\Unreal Results\\\\'\n",
    "gazebo_dir_name = 'D:\\\\University\\\\Final Year Project\\\\Final Results\\\\Constant Force\\\\Gazebo Quick Solver Results\\\\'\n",
    "forces_used = [1, 5, 10, 20]\n",
    "\n",
    "plot_constant_force_results(unreal_dir_name, gazebo_dir_name, 'Time', 'Y Velocity', forces_used, unreal_dir_name)\n",
    "plot_constant_force_results(unreal_dir_name, gazebo_dir_name, 'Time', 'Y Position', forces_used, unreal_dir_name)"
   ]
  },
  {
   "cell_type": "code",
   "execution_count": 25,
   "metadata": {},
   "outputs": [
    {
     "data": {
      "text/plain": [
       "<Figure size 432x288 with 0 Axes>"
      ]
     },
     "metadata": {},
     "output_type": "display_data"
    }
   ],
   "source": [
    "# Plot impulse results\n",
    "unreal_dir_name = 'D:\\\\University\\\\Final Year Project\\\\Final Results\\\\Impulse\\\\Unreal Results\\\\'\n",
    "gazebo_dir_name = 'D:\\\\University\\\\Final Year Project\\\\Final Results\\\\Impulse\\\\Gazebo Quick Solver Results\\\\'\n",
    "\n",
    "impulses_used = [100, 500, 1000, 10000, 20000]\n",
    "plot_impulse_results(unreal_dir_name, gazebo_dir_name, 'Time', 'Y Velocity', impulses_used, unreal_dir_name)\n",
    "plot_impulse_results(unreal_dir_name, gazebo_dir_name, 'Time', 'Y Position', impulses_used, unreal_dir_name)"
   ]
  },
  {
   "cell_type": "code",
   "execution_count": 180,
   "metadata": {},
   "outputs": [
    {
     "data": {
      "text/plain": [
       "<Figure size 432x288 with 0 Axes>"
      ]
     },
     "metadata": {},
     "output_type": "display_data"
    }
   ],
   "source": [
    "# Plot Time-based force pattern results\n",
    "unreal_dir_name = 'D:\\\\University\\\\Final Year Project\\\\Final Results\\\\Time Based Approach\\\\Unreal Results\\\\'\n",
    "gazebo_dir_name = 'D:\\\\University\\\\Final Year Project\\\\Final Results\\\\Time Based Approach\\\\Gazebo World Solver Results\\\\'\n",
    "\n",
    "plot_pattern_results(unreal_dir_name, gazebo_dir_name, 'Time', 'Y Velocity', 4, unreal_dir_name)\n",
    "plot_pattern_results(unreal_dir_name, gazebo_dir_name, 'Time', 'Y Position', 4, unreal_dir_name)\n",
    "plot_pattern_results(unreal_dir_name, gazebo_dir_name, 'Time', 'Y Force Applied', 4, unreal_dir_name)"
   ]
  },
  {
   "cell_type": "code",
   "execution_count": 25,
   "metadata": {},
   "outputs": [
    {
     "data": {
      "text/plain": [
       "<Figure size 432x288 with 0 Axes>"
      ]
     },
     "metadata": {},
     "output_type": "display_data"
    }
   ],
   "source": [
    "# Plot Tick-based force pattern results\n",
    "UnrealDirName = 'D:\\\\University\\\\Final Year Project\\\\Final Results\\\\Same Tick Duration Approach\\\\Unreal Results\\\\'\n",
    "GazeboDirName = 'D:\\\\University\\\\Final Year Project\\\\Final Results\\\\Same Tick Duration Approach\\\\Gazebo World Solver Results\\\\'\n",
    "\n",
    "plot_pattern_results(UnrealDirName, GazeboDirName, 'Time', 'Y Velocity', 4, UnrealDirName)\n",
    "plot_pattern_results(UnrealDirName, GazeboDirName, 'Time', 'Y Position', 4, UnrealDirName)\n",
    "plot_pattern_results(UnrealDirName, GazeboDirName, 'Time', 'Y Force Applied', 4, UnrealDirName)"
   ]
  },
  {
   "cell_type": "code",
   "execution_count": null,
   "metadata": {},
   "outputs": [],
   "source": []
  }
 ],
 "metadata": {
  "kernelspec": {
   "display_name": "Python 3",
   "language": "python",
   "name": "python3"
  },
  "language_info": {
   "codemirror_mode": {
    "name": "ipython",
    "version": 3
   },
   "file_extension": ".py",
   "mimetype": "text/x-python",
   "name": "python",
   "nbconvert_exporter": "python",
   "pygments_lexer": "ipython3",
   "version": "3.6.12"
  }
 },
 "nbformat": 4,
 "nbformat_minor": 2
}
